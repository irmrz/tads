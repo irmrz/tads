{
 "cells": [
  {
   "cell_type": "markdown",
   "id": "c538a1f0",
   "metadata": {
    "editable": true,
    "slideshow": {
     "slide_type": "slide"
    },
    "tags": []
   },
   "source": [
    "# Técnicas avanzadas de diseño de software\n",
    "\n",
    "## Delayed based Vs Rollback netcode\n",
    "\n",
    "### Manuel Nieto - Ignacio Ramirez - Bruno Volpini\n",
    "\n",
    "![](imagenes/patos.png)"
   ]
  },
  {
   "cell_type": "markdown",
   "id": "de7270a3-a081-400c-9d7a-c060b680ced1",
   "metadata": {
    "editable": true,
    "slideshow": {
     "slide_type": "subslide"
    },
    "tags": []
   },
   "source": [
    "# Borrar esta slide con consideraciones\n",
    "\n",
    "Usen lo que sea necesario para armar una clase de más o menos 40 minutos alrededor del tema\n",
    "\n",
    "Usen la utilidad jupyter rise para hacer esta charla: si instalaron según el readme tienen todo disponible.\n",
    "\n",
    "\n",
    "- Rollback es TAN importante para la FGC que se usa como marketing\n",
    "- Den una intro de donde viene y ubinquen los temas en black-box, grey box o \n",
    "- Den un texto historico\n",
    "- delay based es mas basado en una evolucion historica que una idea seminal\n",
    "- \n",
    "- https://dl.acm.org/doi/abs/10.1145/3532719.3543199 <<<< poster con un esquema hibrido de rollback netcode\n",
    "\n",
    "Aca les dejo una salida de claude\n",
    "\n",
    "```markdown\n",
    "El paper seminal del rollback netcode está asociado con GGPO (Good Game Peace Out), un middleware desarrollado por Tony Cannon, quien también es cofundador del sitio Shoryuken y de la Evolution Championship Series. Tony Cannon creó GGPO como reacción a su insatisfacción con el relanzamiento online de Street Fighter II: Hyper Fighting para Xbox 360 en 2006, lanzando la primera versión a finales de ese mismo año. GGPO - Wikipedia, la enciclopedia libre\n",
    "GGPO fue creado en 2009 como un SDK de networking que pioneramente implementó el uso de rollback networking en juegos peer-to-peer GGPO | Rollback Networking SDK for Peer-to-Peer Games. Aunque no hay un paper académico específico citado, la documentación técnica de GGPO y las presentaciones de Tony Cannon son consideradas las fuentes seminales para esta tecnología.\n",
    "El rollback netcode puede verse como una extensión de la arquitectura clásica de lockstep, donde los jugadores envían su input cada frame y avanzan su simulación sin esperar a recibir el input de los jugadores remotos. Netcode Architectures Part 2: Rollback | SnapNet Lo que hace innovador al sistema es que predice las acciones de los otros jugadores cuando hay latencia, y luego corrige cualquier predicción incorrecta \"rebobinando\" y volviendo a calcular rápidamente cuando llegan los inputs reales.\n",
    "Para información más detallada, Tony Cannon dio una charla en el Evolution Championship Series de 2017 donde explicó cómo funciona GGPO, su historia y su integración en el emulador FinalBurn Alpha. Esta presentación, junto con el código fuente de GGPO que está disponible públicamente en GitHub, constituyen las referencias principales para entender esta importante innovación en la infraestructura de red para videojuegos.\n",
    "¿Te gustaría que profundice en algún aspecto específico sobre cómo funciona el rollback netcode o su implementación?\n",
    "```\n",
    "    \n",
    "- Aca tienen el scholar con todo de rollback: https://scholar.google.com/scholar?oi=gsb95&q=rollback%20netcode&lookup=0&hl=es\n",
    "- wikipedia https://es.wikipedia.org/wiki/Netcode\n",
    "- La implementacion de rollback https://www.ggpo.net/\n",
    "\n",
    "**Recueden es una clase, van a preguntarles mas de lo que muestran**"
   ]
  },
  {
   "cell_type": "markdown",
   "id": "bad8b4a5",
   "metadata": {
    "editable": true,
    "slideshow": {
     "slide_type": "slide"
    },
    "tags": []
   },
   "source": [
    "# Primero lo primero\n",
    "## ¿Qué es el netcode?"
   ]
  },
  {
   "cell_type": "markdown",
   "id": "40a23775",
   "metadata": {
    "editable": true,
    "slideshow": {
     "slide_type": "subslide"
    },
    "tags": []
   },
   "source": [
    "En realidad, nada."
   ]
  },
  {
   "cell_type": "markdown",
   "id": "7e134c58",
   "metadata": {
    "editable": true,
    "slideshow": {
     "slide_type": "subslide"
    },
    "tags": []
   },
   "source": [
    "Netcode es un termino que se usa para hablar de manera muy general de todo lo que tiene que ver con la gestion de redes en los juegos en linea. Es un termino que se usa solamente en los juegos y segun Wikipedia\n",
    "no es un término aceptado por la comunidad cientifica."
   ]
  },
  {
   "cell_type": "markdown",
   "id": "cdb61e7d",
   "metadata": {
    "slideshow": {
     "slide_type": "slide"
    }
   },
   "source": [
    "# Bueno, ¿y?"
   ]
  },
  {
   "cell_type": "markdown",
   "id": "5353475b",
   "metadata": {
    "editable": true,
    "slideshow": {
     "slide_type": "subslide"
    },
    "tags": []
   },
   "source": [
    "Los juegos multijugador en linea tienen un problema fundamental: la latencia.\n",
    "## Latencia\n",
    "Es el tiempo total que tarda un dato en ir desde tu dispositivo hasta el servidor del juego y regresar. Incluye absolutamente todo el proceso de transmisión de datos."
   ]
  },
  {
   "cell_type": "markdown",
   "id": "b6ae99fc",
   "metadata": {
    "editable": true,
    "slideshow": {
     "slide_type": "slide"
    },
    "tags": []
   },
   "source": [
    "# ¿Como lo solucionamos?\n",
    "Vamos a ver una evolución histórica de como se trato de solucionar este problema."
   ]
  },
  {
   "cell_type": "markdown",
   "id": "2877bc01",
   "metadata": {
    "editable": true,
    "slideshow": {
     "slide_type": "slide"
    },
    "tags": []
   },
   "source": [
    "# En un principio solo estaba la Xband\n",
    "\n",
    "![](imagenes/xband-1.jpg)\n",
    "Desarrollada por Catapult Entertainment en 1994, XBAND era un módem que permitía jugar online en Mega Drive y SNES."
   ]
  },
  {
   "cell_type": "markdown",
   "id": "acf6459e",
   "metadata": {
    "editable": true,
    "slideshow": {
     "slide_type": "slide"
    },
    "tags": []
   },
   "source": [
    "# Ahora sí: Delay Based Netcode\n",
    "Durante finales de los 90s y principios de los 2000s no existía el concepto de delay based netcode como tal, sino que se hablaba de simplemente jugar en linea."
   ]
  },
  {
   "cell_type": "markdown",
   "id": "febbe54c-372a-4ec3-9f5a-7a79e989b528",
   "metadata": {
    "editable": true,
    "slideshow": {
     "slide_type": "subslide"
    },
    "tags": []
   },
   "source": [
    "# Idea\n",
    "- Esperar a que lleguen las entradas de los dos jugadores\n",
    "- Una vez sincronizadas, ejecuta ambas\n",
    "## Problema\n",
    "Si la latencia entre los jugadores es alta, perdes responsiveness"
   ]
  },
  {
   "cell_type": "markdown",
   "id": "c6d4709c",
   "metadata": {
    "editable": true,
    "slideshow": {
     "slide_type": "subslide"
    },
    "tags": []
   },
   "source": [
    "aca va el gif de brunito"
   ]
  },
  {
   "cell_type": "markdown",
   "id": "a1bd4e9d",
   "metadata": {
    "editable": true,
    "slideshow": {
     "slide_type": "slide"
    },
    "tags": []
   },
   "source": [
    "# Hay que buscarle la vuelta\n",
    "Como a mediados de los 90 no existían buenas conexiones a internet en las casas, el delay based netcode no era una opción viable."
   ]
  },
  {
   "cell_type": "markdown",
   "id": "e10c540e",
   "metadata": {
    "editable": true,
    "slideshow": {
     "slide_type": "subslide"
    },
    "tags": []
   },
   "source": [
    "En 1996 la empresa id-Software saca QuakeWorld, una continuación de Quake pensada exclusivamente para el multijugador por internet.\n",
    "![](imagenes/Quake1cover.jpg)"
   ]
  },
  {
   "cell_type": "markdown",
   "id": "080af42f",
   "metadata": {
    "editable": true,
    "slideshow": {
     "slide_type": "subslide"
    },
    "tags": []
   },
   "source": [
    "## John Carmack\n",
    "\n",
    "![](imagenes/johncarmack.png)\n",
    "\n",
    "#### <sub><sup>Nos quedamos sin pixeles</sub></sup>\n"
   ]
  },
  {
   "cell_type": "markdown",
   "id": "ce6409aa",
   "metadata": {
    "editable": true,
    "slideshow": {
     "slide_type": "slide"
    },
    "tags": []
   },
   "source": [
    "## La idea de Carmack\n",
    "\"<em>The biggest difference is the addition of client side movement simulation.</em>\n",
    "\n",
    "<em>I am now allowing the client to guess at the results of the users movement \n",
    "until the authoritative response from the server comes through.  This is a \n",
    "biiiig architectural change.  The client now needs to know about solidity \n",
    "of objects, friction, gravity, etc.  I am sad to see the elegent \n",
    "client-as-terminal setup go away, but I am practical above idealistic.</em>\n",
    "\n",
    "<em>The server is still the final word, so the client is allways repredicting \n",
    "it's movement based off of the last known good message from the server.</em>\"\n",
    "\n",
    "Artículo de John Carmack - 1996"
   ]
  },
  {
   "cell_type": "markdown",
   "id": "1567f7f2",
   "metadata": {
    "editable": true,
    "slideshow": {
     "slide_type": "subslide"
    },
    "tags": []
   },
   "source": [
    "Tener una estructura básica de comunicación:\n",
    "```C\n",
    "typedef struct\n",
    "{\n",
    "\tvec3_t\tviewangles;\n",
    "\n",
    "// intended velocities\n",
    "\tfloat\tforwardmove;\n",
    "\tfloat\tsidemove;\n",
    "\tfloat\tupmove;\n",
    "#ifdef QUAKE2\n",
    "\tbyte\tlightlevel;\n",
    "#endif\n",
    "} usercmd_t;\n",
    "```"
   ]
  },
  {
   "cell_type": "markdown",
   "id": "0c4d0cd5-f477-4a94-a00c-0c137db1600e",
   "metadata": {
    "editable": true,
    "slideshow": {
     "slide_type": "subslide"
    },
    "tags": []
   },
   "source": [
    "Cada comando enviado al servidor se guarda en el arreglo frames:\n",
    "```C\n",
    "frame_t\t\tframes[UPDATE_BACKUP]; // Tamaño del array = 64\n",
    "```\n",
    "```C\n",
    "typedef struct\n",
    "{\n",
    "\t// generated on client side\n",
    "\tusercmd_t\tcmd;\t\t// cmd that generated the frame\n",
    "\tdouble\t\tsenttime;\t// time cmd was sent off\n",
    "\tint\tdelta_sequence;\t\t// sequence number to delta from, -1 = full update\n",
    "\n",
    "\t// received from server\n",
    "\tdouble\t\treceivedtime;\t// time message was received, or -1\n",
    "\tplayer_state_t\tplayerstate[MAX_CLIENTS];\t// message received that reflects performing\n",
    "\t\t\t\t\t\t\t// the usercmd\n",
    "\tpacket_entities_t\tpacket_entities;\n",
    "\tqboolean\tinvalid;\t\t// true if the packet_entities delta was invalid\n",
    "} frame_t;\n",
    "```"
   ]
  },
  {
   "cell_type": "markdown",
   "id": "938d0e16-8087-4970-9b11-8b5c16153a9c",
   "metadata": {
    "editable": true,
    "slideshow": {
     "slide_type": "slide"
    },
    "tags": []
   },
   "source": [
    "## ¿Cómo lo hace?\n",
    "![](imagenes/quakeScheme.png)\n"
   ]
  },
  {
   "cell_type": "markdown",
   "id": "45473b86",
   "metadata": {
    "editable": true,
    "slideshow": {
     "slide_type": "slide"
    },
    "tags": []
   },
   "source": [
    "##### Ahora si\n",
    "# Rollback Netcode\n",
    "El concepto aparece a mediados de los 2000 y fue popularizado por la librería GGPO, desarrollada por Tony Cannon y vio la luz en 2006."
   ]
  },
  {
   "cell_type": "markdown",
   "id": "11785ac8",
   "metadata": {
    "slideshow": {
     "slide_type": "subslide"
    }
   },
   "source": [
    "![](imagenes/ggpo.png) "
   ]
  },
  {
   "cell_type": "markdown",
   "id": "9808ecd6",
   "metadata": {
    "editable": true,
    "slideshow": {
     "slide_type": "subslide"
    },
    "tags": []
   },
   "source": [
    "![](imagenes/tonycannon.png)"
   ]
  },
  {
   "cell_type": "markdown",
   "id": "3d5d24b8",
   "metadata": {
    "editable": true,
    "slideshow": {
     "slide_type": "slide"
    },
    "tags": []
   },
   "source": [
    "# La idea\n",
    "- Ejecutar inmediatamente las entradas del jugador local\n",
    "- Predecir las entradas de los jugadores remotos envés de esperarlos\n",
    "- Una vez que nos llegan las entradas remotas\n",
    "- Si la predicción es correcta -> el juego continua como si no pasó nada\n",
    "- Si es incorrecta -> se revierte el estado del juego (rollback) y se continua desde el estado corregido"
   ]
  },
  {
   "cell_type": "markdown",
   "id": "a6c99997-9aa6-48c7-9b76-54261ecf912f",
   "metadata": {
    "editable": true,
    "slideshow": {
     "slide_type": "slide"
    },
    "tags": []
   },
   "source": [
    "## GGPO\n",
    "#### Good Game, Pace Out\n",
    "<sub><sup>Traducido: Buen juego, nos vemos</sub></sup>\n",
    "### ¿Qué hace?\n",
    "Es un middleware que permite implementar rollback netcode en el multijugador de juegos, principalmente en juegos de pelea con multijugador P2P."
   ]
  },
  {
   "cell_type": "markdown",
   "id": "98e61201-a985-4fdd-a5ec-910809361bbe",
   "metadata": {
    "editable": true,
    "slideshow": {
     "slide_type": "slide"
    },
    "tags": []
   },
   "source": [
    "# ¿Y esto anda?"
   ]
  },
  {
   "cell_type": "markdown",
   "id": "822d9323-3964-4bfa-b29a-06583fe62efb",
   "metadata": {
    "editable": true,
    "slideshow": {
     "slide_type": "subslide"
    },
    "tags": []
   },
   "source": [
    "Por supuesto."
   ]
  },
  {
   "cell_type": "markdown",
   "id": "e449c911-1906-4e8a-957c-e020c3bd7ac2",
   "metadata": {
    "editable": true,
    "slideshow": {
     "slide_type": "subslide"
    },
    "tags": []
   },
   "source": [
    "- 30 FPS --> 1 Frame = 1/30s = 0,03s\n",
    "- 60 FPS --> 1 Frame = 1/60s = 0,016s\n",
    "- Tiempo de reacción promedio de una persona = 200ms = 0,2s "
   ]
  },
  {
   "cell_type": "markdown",
   "id": "e57b49f3-add4-4c6a-b13d-8bcf00dc1c39",
   "metadata": {
    "editable": true,
    "slideshow": {
     "slide_type": "slide"
    },
    "tags": []
   },
   "source": [
    "# Funcionamiento\n",
    "![](imagenes/ggpo-func.png)"
   ]
  },
  {
   "cell_type": "markdown",
   "id": "a1892b03-f614-4b8c-8de7-bcd5b4bfb99e",
   "metadata": {
    "editable": true,
    "slideshow": {
     "slide_type": "slide"
    },
    "tags": []
   },
   "source": [
    "# ¿Cómo lo hace?\n",
    "![](imagenes/ggpo-arch.png)"
   ]
  },
  {
   "cell_type": "markdown",
   "id": "c581a93f-5d1a-4947-a994-bf5163c58a3f",
   "metadata": {
    "editable": true,
    "slideshow": {
     "slide_type": "slide"
    },
    "tags": []
   },
   "source": [
    "# ¿Cómo se hacen las predicciones?\n",
    "Todos los inputs se guardan en una cola.\n",
    "\n",
    "```C++\n",
    "#define PREVIOUS_FRAME(offset)   (((offset) == 0) ? (INPUT_QUEUE_LENGTH - 1) : ((offset) - 1))\n",
    "\n",
    "bool\n",
    "InputQueue::GetInput(int requested_frame, GameInput *input){\n",
    "    \n",
    "    //En el medio hace otras cosas\n",
    "    \n",
    "/*\n",
    "       * The requested frame isn't in the queue.  Bummer.  This means we need\n",
    "       * to return a prediction frame.  Predict that the user will do the\n",
    "       * same thing they did last time.\n",
    "       */\n",
    "      if (requested_frame == 0) {\n",
    "         Log(\"basing new prediction frame from nothing, you're client wants frame 0.\\n\");\n",
    "         _prediction.erase();\n",
    "      } else if (_last_added_frame == GameInput::NullFrame) {\n",
    "         Log(\"basing new prediction frame from nothing, since we have no frames yet.\\n\");\n",
    "         _prediction.erase();\n",
    "      } else {\n",
    "         Log(\"basing new prediction frame from previously added frame (queue entry:%d, frame:%d).\\n\",\n",
    "              PREVIOUS_FRAME(_head), _inputs[PREVIOUS_FRAME(_head)].frame);\n",
    "         _prediction = _inputs[PREVIOUS_FRAME(_head)];\n",
    "      }\n",
    "      _prediction.frame++;\n",
    "   }\n",
    "```"
   ]
  },
  {
   "cell_type": "markdown",
   "id": "57ef0c35-55c2-4150-86e5-68c64338b149",
   "metadata": {
    "editable": true,
    "slideshow": {
     "slide_type": "slide"
    },
    "tags": []
   },
   "source": [
    "# La comunidad dio su veredicto\n",
    "| Veredicto:|\n",
    "|----------|\n",
    "| ![](imagenes/rant1.png) |\n",
    "| ![](imagenes/rant2.png) |\n",
    "| ![](imagenes/rant3.png) |\n",
    "| ![](imagenes/rant4.png) |\n",
    "| ![](imagenes/rant5.png) |\n",
    "| ![](imagenes/rant6.png) |\n"
   ]
  },
  {
   "cell_type": "markdown",
   "id": "6030a019-a6e6-489d-9aa6-76853b61714d",
   "metadata": {
    "editable": true,
    "slideshow": {
     "slide_type": "slide"
    },
    "tags": []
   },
   "source": [
    "# HERMOSO, BRILLANTE, INGENIOSO, pero…\n",
    "¿Por qué a pesar del cariño de la comunidad el rollback netcode no es el estándar de los juegos de pelea multijugador?<br>\n",
    "Parece ser que los desarrolladores japoneses no están muy abiertos a incorporar tecnologías hechas fuera de la isla."
   ]
  },
  {
   "cell_type": "markdown",
   "id": "dbac77d7-580d-4bf0-b060-b87e7fa50bf0",
   "metadata": {
    "editable": true,
    "slideshow": {
     "slide_type": "slide"
    },
    "tags": []
   },
   "source": [
    "# No todo es color de rosas\n",
    "La predicción que hace el rollback es muy ingenua. Esto se hace presente cuando hay desconexciones largas ya que rollbacks se vuelven muy notorios porque los personajes dentro del juego se teletransportan por toda la pantalla."
   ]
  },
  {
   "cell_type": "markdown",
   "id": "0fdcd4dd-50d8-49b8-882d-eceeed2ce2b8",
   "metadata": {
    "editable": true,
    "slideshow": {
     "slide_type": "slide"
    },
    "tags": []
   },
   "source": [
    "# Un nuevo tipo de rollback\n",
    "Esta alternativa implementa un esquema híbrido que usa rollback mezclado con, para sorpresa de nadie, inteligencia artificial."
   ]
  },
  {
   "cell_type": "markdown",
   "id": "9d4428ea-a3fe-4959-8a6f-3c5170130238",
   "metadata": {
    "editable": true,
    "slideshow": {
     "slide_type": "subslide"
    },
    "tags": []
   },
   "source": [
    "# ¿Cómo funciona?\n",
    "![](imagenes/poster1.png)"
   ]
  },
  {
   "cell_type": "markdown",
   "id": "b72d8024-949e-4815-ad2f-1dd64e063fb3",
   "metadata": {
    "editable": true,
    "slideshow": {
     "slide_type": "subslide"
    },
    "tags": []
   },
   "source": [
    "![](imagenes/poster2.png)"
   ]
  },
  {
   "cell_type": "markdown",
   "id": "8a373b0d-6225-4da9-bb6d-7eb521e5440d",
   "metadata": {
    "editable": true,
    "slideshow": {
     "slide_type": "subslide"
    },
    "tags": []
   },
   "source": [
    "![](imagenes/poster3.png)"
   ]
  },
  {
   "cell_type": "markdown",
   "id": "e2f87eed-8e00-46e0-859e-1ca4e7ba3e6c",
   "metadata": {
    "editable": true,
    "slideshow": {
     "slide_type": "fragment"
    },
    "tags": []
   },
   "source": [
    "[Demostración gráfica](https://dl.acm.org/doi/abs/10.1145/3532719.3543199)"
   ]
  },
  {
   "cell_type": "markdown",
   "id": "6326b7b7-737c-44e2-84f0-54769535d1ed",
   "metadata": {
    "editable": true,
    "slideshow": {
     "slide_type": "slide"
    },
    "tags": []
   },
   "source": [
    "## Eso no es todo\n",
    "Rollback Híbrido contempla diversos escenarios excepcionales, como cuando el jugador utiliza otra cuenta de otro usuario o el mejora/modifica su estilo de juego. \n",
    "\n",
    "## ¿Qué tan bien funciona?\n",
    "Los investigadores probaron implementar este sistema en un juego de pelea open source conocido como Footsies. Obtuvieron que la tasa de precisión fue del 75%, y puede ser mejor a medida que se recolecta más información."
   ]
  },
  {
   "cell_type": "markdown",
   "id": "bb8992ec-da82-4432-ad10-7a644bfe4246",
   "metadata": {
    "editable": true,
    "slideshow": {
     "slide_type": "slide"
    },
    "tags": []
   },
   "source": [
    "# ¿Preguntas?\n",
    "Esperamos que no.\n",
    "<br>\n",
    "<br>\n",
    "\n",
    "# Referencias:\n",
    "- https://es.wikipedia.org/wiki/Netcode\n",
    "- https://fabiensanglard.net/quakeSource/quakeSourcePrediction.php\n",
    "- https://fabiensanglard.net/quakeSource/johnc-log.aug.htm\n",
    "- https://github.com/id-Software/Quake/\n",
    "- https://github.com/pond3r/ggpo\n",
    "- https://dl.acm.org/doi/abs/10.1145/3532719.3543199"
   ]
  }
 ],
 "metadata": {
  "celltoolbar": "Slideshow",
  "kernelspec": {
   "display_name": "Python 3 (ipykernel)",
   "language": "python",
   "name": "python3"
  },
  "language_info": {
   "codemirror_mode": {
    "name": "ipython",
    "version": 3
   },
   "file_extension": ".py",
   "mimetype": "text/x-python",
   "name": "python",
   "nbconvert_exporter": "python",
   "pygments_lexer": "ipython3",
   "version": "3.13.3"
  }
 },
 "nbformat": 4,
 "nbformat_minor": 5
}
